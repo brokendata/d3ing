{
 "cells": [
  {
   "cell_type": "code",
   "execution_count": 33,
   "metadata": {
    "collapsed": true
   },
   "outputs": [],
   "source": [
    "from csv import DictReader\n",
    "from collections import defaultdict\n",
    "import json"
   ]
  },
  {
   "cell_type": "code",
   "execution_count": 28,
   "metadata": {
    "collapsed": true
   },
   "outputs": [],
   "source": [
    "d = defaultdict(list)"
   ]
  },
  {
   "cell_type": "code",
   "execution_count": 29,
   "metadata": {
    "collapsed": false
   },
   "outputs": [],
   "source": [
    "with open(\"pt.csv\",\"r\") as csvfile:\n",
    "    reader = DictReader(csvfile)\n",
    "    for row in reader:\n",
    "        d[row['Type']].append({\"name\": row['Element'], \"weight\" : row['Atomic Weight'], \"phase\" : row['Phase'], \"symbol\" : row[\"Symbol\"]})"
   ]
  },
  {
   "cell_type": "code",
   "execution_count": 64,
   "metadata": {
    "collapsed": false
   },
   "outputs": [
    {
     "data": {
      "text/plain": [
       "['',\n",
       " 'Noble Gas',\n",
       " 'Transactinide',\n",
       " 'Actinide',\n",
       " 'Metalloid',\n",
       " 'Metal',\n",
       " 'Halogen',\n",
       " 'Lanthanide',\n",
       " 'Transition Metal',\n",
       " 'Nonmetal',\n",
       " 'Alkali Metal',\n",
       " 'Alkaline Earth Metal']"
      ]
     },
     "execution_count": 64,
     "metadata": {},
     "output_type": "execute_result"
    }
   ],
   "source": [
    "d.keys()"
   ]
  },
  {
   "cell_type": "code",
   "execution_count": 38,
   "metadata": {
    "collapsed": true
   },
   "outputs": [],
   "source": [
    "s = \"\"\"\n",
    "{\n",
    " \"name\": \"Imperium Romanorum\",\n",
    " \"children\": [\n",
    "    {\n",
    "            \"name\": \"Urbs Romae\",\n",
    "            \"children\": [\n",
    "                { \"name\": \"Regio I Porta Capena\",\"size\":10 },\n",
    "                { \"name\": \"Regio II Caelimontium\",\"size\":10 },\n",
    "                { \"name\": \"Regio III Isis et Serapis\",\"size\":10 },\n",
    "                { \"name\": \"Regio IV Templum Pacis\",\"size\":10 },\n",
    "                { \"name\": \"Regio V Esquiliae\",\"size\":10 },\n",
    "                { \"name\": \"Regio VI Alta Semita\",\"size\":10 },\n",
    "                { \"name\": \"Regio VII Via Lata\",\"size\":10 },\n",
    "                { \"name\": \"Regio VIII Forum Romanum\",\"size\":10 },\n",
    "                { \"name\": \"Regio IX Circus Flaminius\",\"size\":10 },\n",
    "                { \"name\": \"Regio X Palatium\",\"size\":10 },\n",
    "                { \"name\": \"Regio XI Circus Maximus\",\"size\":10 },\n",
    "                { \"name\": \"Regio XII Piscina Publica\",\"size\":10 },\n",
    "                { \"name\": \"Regio XIII Aventinus\",\"size\":10 },\n",
    "                { \"name\": \"Regio XIV Transtiberim\",\"size\":10 }\n",
    " \n",
    "            ]\n",
    "        },{\n",
    "            \"name\": \"Italia\",\n",
    "            \"children\": [\n",
    "                { \"name\": \"Regio I Latium et Campania\",\"size\":35 },\n",
    "                { \"name\": \"Regio II Apulia et Calabria\",\"size\":35 },\n",
    "                { \"name\": \"Regio III Lucania et Brutium\",\"size\":35 },\n",
    "                { \"name\": \"Regio IV Samnium\",\"size\":35 },\n",
    "                { \"name\": \"Regio V Picenum\",\"size\":35 },\n",
    "                { \"name\": \"Regio VI Umbria et Ager Gallicus\",\"size\":35 },\n",
    "                { \"name\": \"Regio VII Etruria\",\"size\":35 },\n",
    "                { \"name\": \"Regio VIII Aemilia\",\"size\":35 },\n",
    "                { \"name\": \"Regio IX Liguria\",\"size\":35 },\n",
    "                { \"name\": \"Regio X Venetia et Histria\",\"size\":35 },\n",
    "                { \"name\": \"Regio XI Transpadana\",\"size\":35 }\n",
    "            ]\n",
    "        },{\n",
    "            \"name\": \"Senatorial Provinces\",\n",
    "            \"children\": [\n",
    "                { \"name\": \"Sicilia\",\"size\":100 },\n",
    "                { \"name\": \"Corsica et Sardinia\",\"size\":80 },\n",
    "                { \"name\": \"Narbonensis\",\"size\":100},\n",
    "                { \"name\": \"Baetica\",\"size\":100},\n",
    "                { \"name\": \"Africa Proconsularis\",\"size\":150},\n",
    "                { \"name\": \"Cyrenaica et Creta\",\"size\":150},\n",
    "                { \"name\": \"Cyprus\",\"size\":50},\n",
    "                { \"name\": \"Asia\",\"size\":75},\n",
    "                { \"name\": \"Bithynia et Pontus\",\"size\":75},\n",
    "                { \"name\": \"Macedonia\",\"size\":60},\n",
    "                { \"name\": \"Achaia\",\"size\":60},\n",
    "                { \"name\": \"Epirus\",\"size\":60}\n",
    "            ]\n",
    "        },\n",
    "        {\n",
    "            \"name\": \"Imperial Provinces\",\n",
    "            \"children\": [\n",
    "                { \"name\": \"Alpes Maritimae\", \"size\":30 },\n",
    "                { \"name\": \"Alpes Cotiae\", \"size\":30 },\n",
    "                { \"name\": \"Alpes Poeniae\", \"size\":30 },\n",
    "                { \"name\": \"Germania Superior\", \"size\":30 },\n",
    "                { \"name\": \"Germania Inferior\", \"size\":30 },\n",
    "                { \"name\": \"Belgica\", \"size\":40 },\n",
    "                { \"name\": \"Britannia\", \"size\":50 },\n",
    "                { \"name\": \"Lugdunensis\", \"size\":40 },\n",
    "                { \"name\": \"Aquitania\", \"size\":40 },\n",
    "                { \"name\": \"Tarraconensis\", \"size\":60 },\n",
    "                { \"name\": \"Lusitania\", \"size\":50 },\n",
    "                { \"name\": \"Mauretania Tingitana\", \"size\":30 },\n",
    "                { \"name\": \"Mauretania Caesariensis\", \"size\":30 },\n",
    "                { \"name\": \"Aegyptus\", \"size\":70 },\n",
    "                { \"name\": \"Arabia Petraea\", \"size\":40 },\n",
    "                { \"name\": \"Iudaea\", \"size\":30 },\n",
    "                { \"name\": \"Syria\", \"size\":50 },\n",
    "                { \"name\": \"Mesopotamia\", \"size\":40 },\n",
    "                { \"name\": \"Assyria\", \"size\":40 },\n",
    "                { \"name\": \"Armenia\", \"size\":30 },\n",
    "                { \"name\": \"Cappadocia\", \"size\":40 },\n",
    "                { \"name\": \"Cilicia\", \"size\":30 },\n",
    "                { \"name\": \"Galatia\", \"size\":30 },\n",
    "                { \"name\": \"Lycia et Pamphylia\", \"size\":30 },\n",
    "                { \"name\": \"Thracia\", \"size\":30 },\n",
    "                { \"name\": \"Moesia Inferior\", \"size\":30 },\n",
    "                { \"name\": \"Moesia Superior\", \"size\":30 },\n",
    "                { \"name\": \"Dacia\", \"size\":40 },\n",
    "                { \"name\": \"Dalmatia\", \"size\":30 },\n",
    "                { \"name\": \"Panonia Inferior\", \"size\":30 },\n",
    "                { \"name\": \"Panonia Superior\", \"size\":30 },\n",
    "                { \"name\": \"Noricum\", \"size\":30 },\n",
    "                { \"name\": \"Raetia\", \"size\":30 }\n",
    "]\n",
    "},\n",
    "        {\n",
    "            \"name\": \"Client States\",\n",
    "            \"children\": [\n",
    "                { \"name\": \"Regnum Bospori\", \"size\":30 }\n",
    "            ]\n",
    "        }\n",
    "   ]\n",
    "  }\"\"\""
   ]
  },
  {
   "cell_type": "code",
   "execution_count": 40,
   "metadata": {
    "collapsed": false
   },
   "outputs": [],
   "source": [
    "t = json.loads(s)"
   ]
  },
  {
   "cell_type": "code",
   "execution_count": 104,
   "metadata": {
    "collapsed": false
   },
   "outputs": [
    {
     "data": {
      "text/plain": [
       "u'Urbs Romae'"
      ]
     },
     "execution_count": 104,
     "metadata": {},
     "output_type": "execute_result"
    }
   ],
   "source": [
    "t['children'][0]['name']"
   ]
  },
  {
   "cell_type": "code",
   "execution_count": 92,
   "metadata": {
    "collapsed": false
   },
   "outputs": [],
   "source": [
    "nested_pt = {\"name\": \"Periodic Table\", \"children\":[{'name': key, 'children' : d[key]} for key in d.keys()]}"
   ]
  },
  {
   "cell_type": "code",
   "execution_count": 105,
   "metadata": {
    "collapsed": false
   },
   "outputs": [
    {
     "data": {
      "text/plain": [
       "''"
      ]
     },
     "execution_count": 105,
     "metadata": {},
     "output_type": "execute_result"
    }
   ],
   "source": [
    "nested_pt['children'][0]['name']"
   ]
  },
  {
   "cell_type": "code",
   "execution_count": 110,
   "metadata": {
    "collapsed": false
   },
   "outputs": [],
   "source": [
    "\n",
    "with open('pt.json', 'w') as outfile:\n",
    "    outfile.writelines(json.dumps(nested_pt))"
   ]
  },
  {
   "cell_type": "code",
   "execution_count": 111,
   "metadata": {
    "collapsed": false
   },
   "outputs": [
    {
     "name": "stdout",
     "output_type": "stream",
     "text": [
      "{\"name\": \"Periodic Table\", \"children\": [{\"name\": \"\", \"children\": [{\"phase\": \"artificial\", \"symbol\": \"Uut \", \"name\": \"Ununtrium \", \"weight\": \"284\"}, {\"phase\": \"artificial\", \"symbol\": \"Uup \", \"name\": \"Ununpentium \", \"weight\": \"288\"}, {\"phase\": \"artificial\", \"symbol\": \"Uus \", \"name\": \"Ununseptium \", \"weight\": \"295\"}]}, {\"name\": \"Noble Gas\", \"children\": [{\"phase\": \"gas\", \"symbol\": \"He\", \"name\": \"Helium\", \"weight\": \"4.002602\"}, {\"phase\": \"gas\", \"symbol\": \"Ne\", \"name\": \"Neon\", \"weight\": \"20.1797\"}, {\"phase\": \"gas\", \"symbol\": \"Ar\", \"name\": \"Argon\", \"weight\": \"39.948\"}, {\"phase\": \"gas\", \"symbol\": \"Kr\", \"name\": \"Krypton\", \"weight\": \"83.798\"}, {\"phase\": \"gas\", \"symbol\": \"Xe\", \"name\": \"Xenon\", \"weight\": \"131.293\"}, {\"phase\": \"solid\", \"symbol\": \"At\", \"name\": \"Astatine\", \"weight\": \"210\"}, {\"phase\": \"artificial\", \"symbol\": \"Uuo \", \"name\": \"Ununoctium \", \"weight\": \"294\"}]}, {\"name\": \"Transactinide\", \"children\": [{\"phase\": \"artificial\", \"symbol\": \"Rf\", \"name\": \"Rutherfordium\", \"weight\": \"261\"}, {\"phase\": \"artificial\", \"symbol\": \"Db\", \"name\": \"Dubnium\", \"weight\": \"262\"}, {\"phase\": \"artificial\", \"symbol\": \"Sg\", \"name\": \"Seaborgium\", \"weight\": \"266\"}, {\"phase\": \"artificial\", \"symbol\": \"Bh\", \"name\": \"Bohrium\", \"weight\": \"264\"}, {\"phase\": \"artificial\", \"symbol\": \"Hs\", \"name\": \"Hassium\", \"weight\": \"267\"}, {\"phase\": \"artificial\", \"symbol\": \"Mt\", \"name\": \"Meitnerium\", \"weight\": \"268\"}, {\"phase\": \"artificial\", \"symbol\": \"Ds \", \"name\": \"Darmstadtium \", \"weight\": \"271\"}, {\"phase\": \"artificial\", \"symbol\": \"Rg \", \"name\": \"Roentgenium \", \"weight\": \"272\"}, {\"phase\": \"artificial\", \"symbol\": \"Cn \", \"name\": \"Copernicium \", \"weight\": \"285\"}, {\"phase\": \"artificial\", \"symbol\": \"Uuq \", \"name\": \"Ununquadium \", \"weight\": \"289\"}, {\"phase\": \"artificial\", \"symbol\": \"Uuh \", \"name\": \"Ununhexium \", \"weight\": \"292\"}]}, {\"name\": \"Actinide\", \"children\": [{\"phase\": \"solid\", \"symbol\": \"Ra\", \"name\": \"Radium\", \"weight\": \"226\"}, {\"phase\": \"solid\", \"symbol\": \"Ac\", \"name\": \"Actinium\", \"weight\": \"227\"}, {\"phase\": \"solid\", \"symbol\": \"Th\", \"name\": \"Thorium\", \"weight\": \"232.03806\"}, {\"phase\": \"solid\", \"symbol\": \"Pa\", \"name\": \"Protactinium\", \"weight\": \"231.03588\"}, {\"phase\": \"solid\", \"symbol\": \"U\", \"name\": \"Uranium\", \"weight\": \"238.02891\"}, {\"phase\": \"artificial\", \"symbol\": \"Np\", \"name\": \"Neptunium\", \"weight\": \"237\"}, {\"phase\": \"artificial\", \"symbol\": \"Pu\", \"name\": \"Plutonium\", \"weight\": \"244\"}, {\"phase\": \"artificial\", \"symbol\": \"Am\", \"name\": \"Americium\", \"weight\": \"243\"}, {\"phase\": \"artificial\", \"symbol\": \"Cm\", \"name\": \"Curium\", \"weight\": \"247\"}, {\"phase\": \"artificial\", \"symbol\": \"Bk\", \"name\": \"Berkelium\", \"weight\": \"247\"}, {\"phase\": \"artificial\", \"symbol\": \"Cf\", \"name\": \"Californium\", \"weight\": \"251\"}, {\"phase\": \"artificial\", \"symbol\": \"Es\", \"name\": \"Einsteinium\", \"weight\": \"252\"}, {\"phase\": \"artificial\", \"symbol\": \"Fm\", \"name\": \"Fermium\", \"weight\": \"257\"}, {\"phase\": \"artificial\", \"symbol\": \"Md\", \"name\": \"Mendelevium\", \"weight\": \"258\"}, {\"phase\": \"artificial\", \"symbol\": \"No\", \"name\": \"Nobelium\", \"weight\": \"259\"}, {\"phase\": \"artificial\", \"symbol\": \"Lr\", \"name\": \"Lawrencium\", \"weight\": \"262\"}]}, {\"name\": \"Metalloid\", \"children\": [{\"phase\": \"solid\", \"symbol\": \"B\", \"name\": \"Boron\", \"weight\": \"10.811\"}, {\"phase\": \"solid\", \"symbol\": \"Si\", \"name\": \"Silicon\", \"weight\": \"28.0855\"}, {\"phase\": \"solid\", \"symbol\": \"Ge\", \"name\": \"Germanium\", \"weight\": \"72.64\"}, {\"phase\": \"solid\", \"symbol\": \"As\", \"name\": \"Arsenic\", \"weight\": \"74.9216\"}, {\"phase\": \"solid\", \"symbol\": \"Sb\", \"name\": \"Antimony\", \"weight\": \"121.76\"}, {\"phase\": \"solid\", \"symbol\": \"Te\", \"name\": \"Tellurium\", \"weight\": \"127.6\"}, {\"phase\": \"solid\", \"symbol\": \"Po\", \"name\": \"Polonium\", \"weight\": \"210\"}]}, {\"name\": \"Metal\", \"children\": [{\"phase\": \"solid\", \"symbol\": \"Al\", \"name\": \"Aluminum\", \"weight\": \"26.9815386\"}, {\"phase\": \"solid\", \"symbol\": \"Ga\", \"name\": \"Gallium\", \"weight\": \"69.723\"}, {\"phase\": \"solid\", \"symbol\": \"In\", \"name\": \"Indium\", \"weight\": \"114.818\"}, {\"phase\": \"solid\", \"symbol\": \"Sn\", \"name\": \"Tin\", \"weight\": \"118.71\"}, {\"phase\": \"solid\", \"symbol\": \"Tl\", \"name\": \"Thallium\", \"weight\": \"204.3833\"}, {\"phase\": \"solid\", \"symbol\": \"Pb\", \"name\": \"Lead\", \"weight\": \"207.2\"}, {\"phase\": \"solid\", \"symbol\": \"Bi\", \"name\": \"Bismuth\", \"weight\": \"208.9804\"}]}, {\"name\": \"Halogen\", \"children\": [{\"phase\": \"gas\", \"symbol\": \"F\", \"name\": \"Fluorine\", \"weight\": \"18.9984032\"}, {\"phase\": \"gas\", \"symbol\": \"Cl\", \"name\": \"Chlorine\", \"weight\": \"35.453\"}, {\"phase\": \"liq\", \"symbol\": \"Br\", \"name\": \"Bromine\", \"weight\": \"79.904\"}, {\"phase\": \"solid\", \"symbol\": \"I\", \"name\": \"Iodine\", \"weight\": \"126.90447\"}]}, {\"name\": \"Lanthanide\", \"children\": [{\"phase\": \"solid\", \"symbol\": \"La\", \"name\": \"Lanthanum\", \"weight\": \"138.90547\"}, {\"phase\": \"solid\", \"symbol\": \"Ce\", \"name\": \"Cerium\", \"weight\": \"140.116\"}, {\"phase\": \"solid\", \"symbol\": \"Pr\", \"name\": \"Praseodymium\", \"weight\": \"140.90765\"}, {\"phase\": \"solid\", \"symbol\": \"Nd\", \"name\": \"Neodymium\", \"weight\": \"144.242\"}, {\"phase\": \"artificial\", \"symbol\": \"Pm\", \"name\": \"Promethium\", \"weight\": \"145\"}, {\"phase\": \"solid\", \"symbol\": \"Sm\", \"name\": \"Samarium\", \"weight\": \"150.36\"}, {\"phase\": \"solid\", \"symbol\": \"Eu\", \"name\": \"Europium\", \"weight\": \"151.964\"}, {\"phase\": \"solid\", \"symbol\": \"Gd\", \"name\": \"Gadolinium\", \"weight\": \"157.25\"}, {\"phase\": \"solid\", \"symbol\": \"Tb\", \"name\": \"Terbium\", \"weight\": \"158.92535\"}, {\"phase\": \"solid\", \"symbol\": \"Dy\", \"name\": \"Dysprosium\", \"weight\": \"162.5\"}, {\"phase\": \"solid\", \"symbol\": \"Ho\", \"name\": \"Holmium\", \"weight\": \"164.93032\"}, {\"phase\": \"solid\", \"symbol\": \"Er\", \"name\": \"Erbium\", \"weight\": \"167.259\"}, {\"phase\": \"solid\", \"symbol\": \"Tm\", \"name\": \"Thulium\", \"weight\": \"168.93421\"}, {\"phase\": \"solid\", \"symbol\": \"Yb\", \"name\": \"Ytterbium\", \"weight\": \"173.054\"}, {\"phase\": \"solid\", \"symbol\": \"Lu\", \"name\": \"Lutetium\", \"weight\": \"174.9668\"}]}, {\"name\": \"Transition Metal\", \"children\": [{\"phase\": \"solid\", \"symbol\": \"Sc\", \"name\": \"Scandium\", \"weight\": \"44.955912\"}, {\"phase\": \"solid\", \"symbol\": \"Ti\", \"name\": \"Titanium\", \"weight\": \"47.867\"}, {\"phase\": \"solid\", \"symbol\": \"V\", \"name\": \"Vanadium\", \"weight\": \"50.9415\"}, {\"phase\": \"solid\", \"symbol\": \"Cr\", \"name\": \"Chromium\", \"weight\": \"51.9961\"}, {\"phase\": \"solid\", \"symbol\": \"Mn\", \"name\": \"Manganese\", \"weight\": \"54.938045\"}, {\"phase\": \"solid\", \"symbol\": \"Fe\", \"name\": \"Iron\", \"weight\": \"55.845\"}, {\"phase\": \"solid\", \"symbol\": \"Co\", \"name\": \"Cobalt\", \"weight\": \"58.933195\"}, {\"phase\": \"solid\", \"symbol\": \"Ni\", \"name\": \"Nickel\", \"weight\": \"58.6934\"}, {\"phase\": \"solid\", \"symbol\": \"Cu\", \"name\": \"Copper\", \"weight\": \"63.546\"}, {\"phase\": \"solid\", \"symbol\": \"Zn\", \"name\": \"Zinc\", \"weight\": \"65.38\"}, {\"phase\": \"solid\", \"symbol\": \"Y\", \"name\": \"Yttrium\", \"weight\": \"88.90585\"}, {\"phase\": \"solid\", \"symbol\": \"Zr\", \"name\": \"Zirconium\", \"weight\": \"91.224\"}, {\"phase\": \"solid\", \"symbol\": \"Nb\", \"name\": \"Niobium\", \"weight\": \"92.90638\"}, {\"phase\": \"solid\", \"symbol\": \"Mo\", \"name\": \"Molybdenum\", \"weight\": \"95.96\"}, {\"phase\": \"artificial\", \"symbol\": \"Tc\", \"name\": \"Technetium\", \"weight\": \"98\"}, {\"phase\": \"solid\", \"symbol\": \"Ru\", \"name\": \"Ruthenium\", \"weight\": \"101.07\"}, {\"phase\": \"solid\", \"symbol\": \"Rh\", \"name\": \"Rhodium\", \"weight\": \"102.9055\"}, {\"phase\": \"solid\", \"symbol\": \"Pd\", \"name\": \"Palladium\", \"weight\": \"106.42\"}, {\"phase\": \"solid\", \"symbol\": \"Ag\", \"name\": \"Silver\", \"weight\": \"107.8682\"}, {\"phase\": \"solid\", \"symbol\": \"Cd\", \"name\": \"Cadmium\", \"weight\": \"112.411\"}, {\"phase\": \"solid\", \"symbol\": \"Hf\", \"name\": \"Hafnium\", \"weight\": \"178.49\"}, {\"phase\": \"solid\", \"symbol\": \"Ta\", \"name\": \"Tantalum\", \"weight\": \"180.94788\"}, {\"phase\": \"solid\", \"symbol\": \"W\", \"name\": \"Wolfram\", \"weight\": \"183.84\"}, {\"phase\": \"solid\", \"symbol\": \"Re\", \"name\": \"Rhenium\", \"weight\": \"186.207\"}, {\"phase\": \"solid\", \"symbol\": \"Os\", \"name\": \"Osmium\", \"weight\": \"190.23\"}, {\"phase\": \"solid\", \"symbol\": \"Ir\", \"name\": \"Iridium\", \"weight\": \"192.217\"}, {\"phase\": \"solid\", \"symbol\": \"Pt\", \"name\": \"Platinum\", \"weight\": \"195.084\"}, {\"phase\": \"solid\", \"symbol\": \"Au\", \"name\": \"Gold\", \"weight\": \"196.966569\"}, {\"phase\": \"liq\", \"symbol\": \"Hg\", \"name\": \"Mercury\", \"weight\": \"200.59\"}]}, {\"name\": \"Nonmetal\", \"children\": [{\"phase\": \"gas\", \"symbol\": \"H\", \"name\": \"Hydrogen\", \"weight\": \"1.00794\"}, {\"phase\": \"solid\", \"symbol\": \"C\", \"name\": \"Carbon\", \"weight\": \"12.0107\"}, {\"phase\": \"gas\", \"symbol\": \"N\", \"name\": \"Nitrogen\", \"weight\": \"14.0067\"}, {\"phase\": \"gas\", \"symbol\": \"O\", \"name\": \"Oxygen\", \"weight\": \"15.9994\"}, {\"phase\": \"solid\", \"symbol\": \"P\", \"name\": \"Phosphorus\", \"weight\": \"30.973762\"}, {\"phase\": \"solid\", \"symbol\": \"S\", \"name\": \"Sulfur\", \"weight\": \"32.065\"}, {\"phase\": \"solid\", \"symbol\": \"Se\", \"name\": \"Selenium\", \"weight\": \"78.96\"}]}, {\"name\": \"Alkali Metal\", \"children\": [{\"phase\": \"solid\", \"symbol\": \"Li\", \"name\": \"Lithium\", \"weight\": \"6.941\"}, {\"phase\": \"solid\", \"symbol\": \"Na\", \"name\": \"Sodium\", \"weight\": \"22.98976928\"}, {\"phase\": \"solid\", \"symbol\": \"K\", \"name\": \"Potassium\", \"weight\": \"39.0983\"}, {\"phase\": \"solid\", \"symbol\": \"Rb\", \"name\": \"Rubidium\", \"weight\": \"85.4678\"}, {\"phase\": \"solid\", \"symbol\": \"Cs\", \"name\": \"Cesium\", \"weight\": \"132.9054519\"}, {\"phase\": \"gas\", \"symbol\": \"Rn\", \"name\": \"Radon\", \"weight\": \"222\"}]}, {\"name\": \"Alkaline Earth Metal\", \"children\": [{\"phase\": \"solid\", \"symbol\": \"Be\", \"name\": \"Beryllium\", \"weight\": \"9.012182\"}, {\"phase\": \"solid\", \"symbol\": \"Mg\", \"name\": \"Magnesium\", \"weight\": \"24.305\"}, {\"phase\": \"solid\", \"symbol\": \"Ca\", \"name\": \"Calcium\", \"weight\": \"40.078\"}, {\"phase\": \"solid\", \"symbol\": \"Sr\", \"name\": \"Strontium\", \"weight\": \"87.62\"}, {\"phase\": \"solid\", \"symbol\": \"Ba\", \"name\": \"Barium\", \"weight\": \"137.327\"}, {\"phase\": \"solid\", \"symbol\": \"Fr\", \"name\": \"Francium\", \"weight\": \"223\"}]}]}\n"
     ]
    }
   ],
   "source": [
    "!cat pt.json"
   ]
  },
  {
   "cell_type": "code",
   "execution_count": null,
   "metadata": {
    "collapsed": true
   },
   "outputs": [],
   "source": []
  }
 ],
 "metadata": {
  "kernelspec": {
   "display_name": "Python 2",
   "language": "python",
   "name": "python2"
  },
  "language_info": {
   "codemirror_mode": {
    "name": "ipython",
    "version": 2
   },
   "file_extension": ".py",
   "mimetype": "text/x-python",
   "name": "python",
   "nbconvert_exporter": "python",
   "pygments_lexer": "ipython2",
   "version": "2.7.8"
  }
 },
 "nbformat": 4,
 "nbformat_minor": 0
}
